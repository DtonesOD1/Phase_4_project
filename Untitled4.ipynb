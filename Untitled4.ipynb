{
 "cells": [
  {
   "cell_type": "code",
   "execution_count": 167,
   "id": "df83cfb6-41d6-4eff-8634-5302996ca62d",
   "metadata": {},
   "outputs": [],
   "source": [
    "import pandas as pd\n",
    "import seaborn as sns\n",
    "import matplotlib as plt\n",
    "# importing necessary libraries\n",
    "import pandas as pd\n",
    "import numpy as np\n",
    "from scipy.sparse import csr_matrix\n",
    "from sklearn.neighbors import NearestNeighbors\n",
    "from sklearn.preprocessing import LabelEncoder\n",
    "import sklearn\n",
    "from sklearn.ensemble import RandomForestRegressor\n",
    "from sklearn.metrics import mean_absolute_error\n",
    "from sklearn.model_selection import train_test_split\n",
    "\n",
    "\n",
    "import matplotlib.pyplot as plt\n",
    "import seaborn as sns\n",
    "\n",
    "import warnings\n",
    "warnings.filterwarnings('ignore')\n",
    "\n",
    "from surprise import Dataset\n",
    "from surprise import Reader\n",
    "from surprise import SVD, SVDpp\n",
    "from surprise.prediction_algorithms import KNNWithMeans, KNNBasic, KNNWithZScore, KNNBaseline\n",
    "from surprise.model_selection import GridSearchCV\n",
    "from surprise.model_selection import cross_validate\n",
    "\n",
    "import ipywidgets as widgets\n",
    "from ipywidgets import interact, interactive\n",
    "from IPython.display import display, clear_output\n",
    "import pandas as pd\n",
    "\n",
    "\n",
    "\n",
    "\n",
    "# Load the Movielens dataset\n",
    "movies = pd.read_csv('/Users/natashawyatt/Documents/Flatiron_school/Phase_4/Phase_4_Project/ml-latest-small/movies.csv')\n",
    "ratings = pd.read_csv('/Users/natashawyatt/Documents/Flatiron_school/Phase_4/Phase_4_Project/ml-latest-small/ratings.csv')\n",
    "links = pd.read_csv('/Users/natashawyatt/Documents/Flatiron_school/Phase_4/Phase_4_Project/ml-latest-small/links.csv')\n",
    "\n",
    "\n",
    "\n",
    "\n",
    "\n",
    "\n",
    "\n"
   ]
  },
  {
   "cell_type": "markdown",
   "id": "f7028997-5f81-4c7b-91b7-c0720c0dec03",
   "metadata": {},
   "source": [
    "### Initial Data Understanding "
   ]
  },
  {
   "cell_type": "code",
   "execution_count": 168,
   "id": "8754b514-26fe-4fc2-b7d6-4a0fcaceec6b",
   "metadata": {},
   "outputs": [
    {
     "data": {
      "text/html": [
       "<div>\n",
       "<style scoped>\n",
       "    .dataframe tbody tr th:only-of-type {\n",
       "        vertical-align: middle;\n",
       "    }\n",
       "\n",
       "    .dataframe tbody tr th {\n",
       "        vertical-align: top;\n",
       "    }\n",
       "\n",
       "    .dataframe thead th {\n",
       "        text-align: right;\n",
       "    }\n",
       "</style>\n",
       "<table border=\"1\" class=\"dataframe\">\n",
       "  <thead>\n",
       "    <tr style=\"text-align: right;\">\n",
       "      <th></th>\n",
       "      <th>movieId</th>\n",
       "      <th>title</th>\n",
       "      <th>genres</th>\n",
       "    </tr>\n",
       "  </thead>\n",
       "  <tbody>\n",
       "    <tr>\n",
       "      <th>0</th>\n",
       "      <td>1</td>\n",
       "      <td>Toy Story (1995)</td>\n",
       "      <td>Adventure|Animation|Children|Comedy|Fantasy</td>\n",
       "    </tr>\n",
       "    <tr>\n",
       "      <th>1</th>\n",
       "      <td>2</td>\n",
       "      <td>Jumanji (1995)</td>\n",
       "      <td>Adventure|Children|Fantasy</td>\n",
       "    </tr>\n",
       "    <tr>\n",
       "      <th>2</th>\n",
       "      <td>3</td>\n",
       "      <td>Grumpier Old Men (1995)</td>\n",
       "      <td>Comedy|Romance</td>\n",
       "    </tr>\n",
       "    <tr>\n",
       "      <th>3</th>\n",
       "      <td>4</td>\n",
       "      <td>Waiting to Exhale (1995)</td>\n",
       "      <td>Comedy|Drama|Romance</td>\n",
       "    </tr>\n",
       "    <tr>\n",
       "      <th>4</th>\n",
       "      <td>5</td>\n",
       "      <td>Father of the Bride Part II (1995)</td>\n",
       "      <td>Comedy</td>\n",
       "    </tr>\n",
       "  </tbody>\n",
       "</table>\n",
       "</div>"
      ],
      "text/plain": [
       "   movieId                               title  \\\n",
       "0        1                    Toy Story (1995)   \n",
       "1        2                      Jumanji (1995)   \n",
       "2        3             Grumpier Old Men (1995)   \n",
       "3        4            Waiting to Exhale (1995)   \n",
       "4        5  Father of the Bride Part II (1995)   \n",
       "\n",
       "                                        genres  \n",
       "0  Adventure|Animation|Children|Comedy|Fantasy  \n",
       "1                   Adventure|Children|Fantasy  \n",
       "2                               Comedy|Romance  \n",
       "3                         Comedy|Drama|Romance  \n",
       "4                                       Comedy  "
      ]
     },
     "execution_count": 168,
     "metadata": {},
     "output_type": "execute_result"
    }
   ],
   "source": [
    "# Looking at what is contained in this df\n",
    "movies.head()\n"
   ]
  },
  {
   "cell_type": "code",
   "execution_count": 169,
   "id": "6b1bae10-4e63-43c2-bcdf-40611a27a628",
   "metadata": {},
   "outputs": [
    {
     "name": "stdout",
     "output_type": "stream",
     "text": [
      "<class 'pandas.core.frame.DataFrame'>\n",
      "RangeIndex: 9742 entries, 0 to 9741\n",
      "Data columns (total 3 columns):\n",
      " #   Column   Non-Null Count  Dtype \n",
      "---  ------   --------------  ----- \n",
      " 0   movieId  9742 non-null   int64 \n",
      " 1   title    9742 non-null   object\n",
      " 2   genres   9742 non-null   object\n",
      "dtypes: int64(1), object(2)\n",
      "memory usage: 228.5+ KB\n"
     ]
    }
   ],
   "source": [
    "movies.info()"
   ]
  },
  {
   "cell_type": "code",
   "execution_count": 170,
   "id": "3fabe34d-fd0d-4f02-bc4e-f5e79061f3c1",
   "metadata": {},
   "outputs": [
    {
     "data": {
      "text/html": [
       "<div>\n",
       "<style scoped>\n",
       "    .dataframe tbody tr th:only-of-type {\n",
       "        vertical-align: middle;\n",
       "    }\n",
       "\n",
       "    .dataframe tbody tr th {\n",
       "        vertical-align: top;\n",
       "    }\n",
       "\n",
       "    .dataframe thead th {\n",
       "        text-align: right;\n",
       "    }\n",
       "</style>\n",
       "<table border=\"1\" class=\"dataframe\">\n",
       "  <thead>\n",
       "    <tr style=\"text-align: right;\">\n",
       "      <th></th>\n",
       "      <th>userId</th>\n",
       "      <th>movieId</th>\n",
       "      <th>rating</th>\n",
       "      <th>timestamp</th>\n",
       "    </tr>\n",
       "  </thead>\n",
       "  <tbody>\n",
       "    <tr>\n",
       "      <th>0</th>\n",
       "      <td>1</td>\n",
       "      <td>1</td>\n",
       "      <td>4.0</td>\n",
       "      <td>964982703</td>\n",
       "    </tr>\n",
       "    <tr>\n",
       "      <th>1</th>\n",
       "      <td>1</td>\n",
       "      <td>3</td>\n",
       "      <td>4.0</td>\n",
       "      <td>964981247</td>\n",
       "    </tr>\n",
       "    <tr>\n",
       "      <th>2</th>\n",
       "      <td>1</td>\n",
       "      <td>6</td>\n",
       "      <td>4.0</td>\n",
       "      <td>964982224</td>\n",
       "    </tr>\n",
       "    <tr>\n",
       "      <th>3</th>\n",
       "      <td>1</td>\n",
       "      <td>47</td>\n",
       "      <td>5.0</td>\n",
       "      <td>964983815</td>\n",
       "    </tr>\n",
       "    <tr>\n",
       "      <th>4</th>\n",
       "      <td>1</td>\n",
       "      <td>50</td>\n",
       "      <td>5.0</td>\n",
       "      <td>964982931</td>\n",
       "    </tr>\n",
       "  </tbody>\n",
       "</table>\n",
       "</div>"
      ],
      "text/plain": [
       "   userId  movieId  rating  timestamp\n",
       "0       1        1     4.0  964982703\n",
       "1       1        3     4.0  964981247\n",
       "2       1        6     4.0  964982224\n",
       "3       1       47     5.0  964983815\n",
       "4       1       50     5.0  964982931"
      ]
     },
     "execution_count": 170,
     "metadata": {},
     "output_type": "execute_result"
    }
   ],
   "source": [
    "# A look at the ratings dataframe/\n",
    "ratings.head()"
   ]
  },
  {
   "cell_type": "code",
   "execution_count": 171,
   "id": "350fbe35-9177-4b23-a98f-33dd2ac59dd7",
   "metadata": {},
   "outputs": [
    {
     "name": "stdout",
     "output_type": "stream",
     "text": [
      "<class 'pandas.core.frame.DataFrame'>\n",
      "RangeIndex: 100836 entries, 0 to 100835\n",
      "Data columns (total 4 columns):\n",
      " #   Column     Non-Null Count   Dtype  \n",
      "---  ------     --------------   -----  \n",
      " 0   userId     100836 non-null  int64  \n",
      " 1   movieId    100836 non-null  int64  \n",
      " 2   rating     100836 non-null  float64\n",
      " 3   timestamp  100836 non-null  int64  \n",
      "dtypes: float64(1), int64(3)\n",
      "memory usage: 3.1 MB\n"
     ]
    }
   ],
   "source": [
    "ratings.info()"
   ]
  },
  {
   "cell_type": "code",
   "execution_count": 172,
   "id": "6c85fd67-1087-4ecc-9052-3994efb12d9a",
   "metadata": {},
   "outputs": [
    {
     "data": {
      "text/html": [
       "<div>\n",
       "<style scoped>\n",
       "    .dataframe tbody tr th:only-of-type {\n",
       "        vertical-align: middle;\n",
       "    }\n",
       "\n",
       "    .dataframe tbody tr th {\n",
       "        vertical-align: top;\n",
       "    }\n",
       "\n",
       "    .dataframe thead th {\n",
       "        text-align: right;\n",
       "    }\n",
       "</style>\n",
       "<table border=\"1\" class=\"dataframe\">\n",
       "  <thead>\n",
       "    <tr style=\"text-align: right;\">\n",
       "      <th></th>\n",
       "      <th>movieId</th>\n",
       "      <th>imdbId</th>\n",
       "      <th>tmdbId</th>\n",
       "    </tr>\n",
       "  </thead>\n",
       "  <tbody>\n",
       "    <tr>\n",
       "      <th>0</th>\n",
       "      <td>1</td>\n",
       "      <td>114709</td>\n",
       "      <td>862.0</td>\n",
       "    </tr>\n",
       "    <tr>\n",
       "      <th>1</th>\n",
       "      <td>2</td>\n",
       "      <td>113497</td>\n",
       "      <td>8844.0</td>\n",
       "    </tr>\n",
       "    <tr>\n",
       "      <th>2</th>\n",
       "      <td>3</td>\n",
       "      <td>113228</td>\n",
       "      <td>15602.0</td>\n",
       "    </tr>\n",
       "    <tr>\n",
       "      <th>3</th>\n",
       "      <td>4</td>\n",
       "      <td>114885</td>\n",
       "      <td>31357.0</td>\n",
       "    </tr>\n",
       "    <tr>\n",
       "      <th>4</th>\n",
       "      <td>5</td>\n",
       "      <td>113041</td>\n",
       "      <td>11862.0</td>\n",
       "    </tr>\n",
       "  </tbody>\n",
       "</table>\n",
       "</div>"
      ],
      "text/plain": [
       "   movieId  imdbId   tmdbId\n",
       "0        1  114709    862.0\n",
       "1        2  113497   8844.0\n",
       "2        3  113228  15602.0\n",
       "3        4  114885  31357.0\n",
       "4        5  113041  11862.0"
      ]
     },
     "execution_count": 172,
     "metadata": {},
     "output_type": "execute_result"
    }
   ],
   "source": [
    "# This information in the links df will probably not be needed or used going forward \n",
    "links.head()"
   ]
  },
  {
   "cell_type": "code",
   "execution_count": 173,
   "id": "fca9763a-7531-4ec5-ae51-7090afe976dc",
   "metadata": {},
   "outputs": [
    {
     "name": "stdout",
     "output_type": "stream",
     "text": [
      "<class 'pandas.core.frame.DataFrame'>\n",
      "RangeIndex: 9742 entries, 0 to 9741\n",
      "Data columns (total 3 columns):\n",
      " #   Column   Non-Null Count  Dtype  \n",
      "---  ------   --------------  -----  \n",
      " 0   movieId  9742 non-null   int64  \n",
      " 1   imdbId   9742 non-null   int64  \n",
      " 2   tmdbId   9734 non-null   float64\n",
      "dtypes: float64(1), int64(2)\n",
      "memory usage: 228.5 KB\n"
     ]
    }
   ],
   "source": [
    "links.info()"
   ]
  },
  {
   "cell_type": "markdown",
   "id": "2f12ec11-220e-4526-887d-9c976e96bed2",
   "metadata": {},
   "source": [
    "### Further Cleaning\n",
    "***\n",
    "Now that we have taken a glance at the data we will look deeper to find things like missing values and duplicates in an attempt to create a clean dataset to use for our models."
   ]
  },
  {
   "cell_type": "code",
   "execution_count": 174,
   "id": "e4a4cb7d-5578-4727-b9e8-6dfce6ee6baf",
   "metadata": {},
   "outputs": [
    {
     "data": {
      "text/plain": [
       "rating\n",
       "4.0    26818\n",
       "3.0    20047\n",
       "5.0    13211\n",
       "3.5    13136\n",
       "4.5     8551\n",
       "2.0     7551\n",
       "2.5     5550\n",
       "1.0     2811\n",
       "1.5     1791\n",
       "0.5     1370\n",
       "dtype: int64"
      ]
     },
     "execution_count": 174,
     "metadata": {},
     "output_type": "execute_result"
    }
   ],
   "source": [
    "ratings.value_counts('rating')"
   ]
  },
  {
   "cell_type": "code",
   "execution_count": 175,
   "id": "06ac5cc8-7aa8-4905-9ee3-adbd9efb10b3",
   "metadata": {},
   "outputs": [
    {
     "data": {
      "text/html": [
       "<div>\n",
       "<style scoped>\n",
       "    .dataframe tbody tr th:only-of-type {\n",
       "        vertical-align: middle;\n",
       "    }\n",
       "\n",
       "    .dataframe tbody tr th {\n",
       "        vertical-align: top;\n",
       "    }\n",
       "\n",
       "    .dataframe thead th {\n",
       "        text-align: right;\n",
       "    }\n",
       "</style>\n",
       "<table border=\"1\" class=\"dataframe\">\n",
       "  <thead>\n",
       "    <tr style=\"text-align: right;\">\n",
       "      <th></th>\n",
       "      <th>userId</th>\n",
       "      <th>movieId</th>\n",
       "      <th>rating</th>\n",
       "      <th>timestamp</th>\n",
       "    </tr>\n",
       "  </thead>\n",
       "  <tbody>\n",
       "    <tr>\n",
       "      <th>count</th>\n",
       "      <td>100836.000000</td>\n",
       "      <td>100836.000000</td>\n",
       "      <td>100836.000000</td>\n",
       "      <td>1.008360e+05</td>\n",
       "    </tr>\n",
       "    <tr>\n",
       "      <th>mean</th>\n",
       "      <td>326.127564</td>\n",
       "      <td>19435.295718</td>\n",
       "      <td>3.501557</td>\n",
       "      <td>1.205946e+09</td>\n",
       "    </tr>\n",
       "    <tr>\n",
       "      <th>std</th>\n",
       "      <td>182.618491</td>\n",
       "      <td>35530.987199</td>\n",
       "      <td>1.042529</td>\n",
       "      <td>2.162610e+08</td>\n",
       "    </tr>\n",
       "    <tr>\n",
       "      <th>min</th>\n",
       "      <td>1.000000</td>\n",
       "      <td>1.000000</td>\n",
       "      <td>0.500000</td>\n",
       "      <td>8.281246e+08</td>\n",
       "    </tr>\n",
       "    <tr>\n",
       "      <th>25%</th>\n",
       "      <td>177.000000</td>\n",
       "      <td>1199.000000</td>\n",
       "      <td>3.000000</td>\n",
       "      <td>1.019124e+09</td>\n",
       "    </tr>\n",
       "    <tr>\n",
       "      <th>50%</th>\n",
       "      <td>325.000000</td>\n",
       "      <td>2991.000000</td>\n",
       "      <td>3.500000</td>\n",
       "      <td>1.186087e+09</td>\n",
       "    </tr>\n",
       "    <tr>\n",
       "      <th>75%</th>\n",
       "      <td>477.000000</td>\n",
       "      <td>8122.000000</td>\n",
       "      <td>4.000000</td>\n",
       "      <td>1.435994e+09</td>\n",
       "    </tr>\n",
       "    <tr>\n",
       "      <th>max</th>\n",
       "      <td>610.000000</td>\n",
       "      <td>193609.000000</td>\n",
       "      <td>5.000000</td>\n",
       "      <td>1.537799e+09</td>\n",
       "    </tr>\n",
       "  </tbody>\n",
       "</table>\n",
       "</div>"
      ],
      "text/plain": [
       "              userId        movieId         rating     timestamp\n",
       "count  100836.000000  100836.000000  100836.000000  1.008360e+05\n",
       "mean      326.127564   19435.295718       3.501557  1.205946e+09\n",
       "std       182.618491   35530.987199       1.042529  2.162610e+08\n",
       "min         1.000000       1.000000       0.500000  8.281246e+08\n",
       "25%       177.000000    1199.000000       3.000000  1.019124e+09\n",
       "50%       325.000000    2991.000000       3.500000  1.186087e+09\n",
       "75%       477.000000    8122.000000       4.000000  1.435994e+09\n",
       "max       610.000000  193609.000000       5.000000  1.537799e+09"
      ]
     },
     "execution_count": 175,
     "metadata": {},
     "output_type": "execute_result"
    }
   ],
   "source": [
    "ratings.describe()"
   ]
  },
  {
   "cell_type": "markdown",
   "id": "b82de96b-d7d8-4827-b98f-9417a7696013",
   "metadata": {},
   "source": [
    "***\n",
    "We see for the most part people are generous with their ratings as it is skewed towards the higher scores and an average of just over 3.5. Or maybe people are less likely to rate a movie they did not enjoy. We will continue to study the numbers"
   ]
  },
  {
   "cell_type": "code",
   "execution_count": 176,
   "id": "a084d935-69f5-4fdc-8709-d54c04519e1e",
   "metadata": {},
   "outputs": [
    {
     "data": {
      "text/html": [
       "<div>\n",
       "<style scoped>\n",
       "    .dataframe tbody tr th:only-of-type {\n",
       "        vertical-align: middle;\n",
       "    }\n",
       "\n",
       "    .dataframe tbody tr th {\n",
       "        vertical-align: top;\n",
       "    }\n",
       "\n",
       "    .dataframe thead th {\n",
       "        text-align: right;\n",
       "    }\n",
       "</style>\n",
       "<table border=\"1\" class=\"dataframe\">\n",
       "  <thead>\n",
       "    <tr style=\"text-align: right;\">\n",
       "      <th></th>\n",
       "      <th>movieId</th>\n",
       "      <th>title</th>\n",
       "      <th>genres</th>\n",
       "      <th>userId</th>\n",
       "      <th>rating</th>\n",
       "      <th>timestamp</th>\n",
       "    </tr>\n",
       "  </thead>\n",
       "  <tbody>\n",
       "    <tr>\n",
       "      <th>0</th>\n",
       "      <td>1</td>\n",
       "      <td>Toy Story (1995)</td>\n",
       "      <td>Adventure|Animation|Children|Comedy|Fantasy</td>\n",
       "      <td>1</td>\n",
       "      <td>4.0</td>\n",
       "      <td>964982703</td>\n",
       "    </tr>\n",
       "    <tr>\n",
       "      <th>1</th>\n",
       "      <td>1</td>\n",
       "      <td>Toy Story (1995)</td>\n",
       "      <td>Adventure|Animation|Children|Comedy|Fantasy</td>\n",
       "      <td>5</td>\n",
       "      <td>4.0</td>\n",
       "      <td>847434962</td>\n",
       "    </tr>\n",
       "    <tr>\n",
       "      <th>2</th>\n",
       "      <td>1</td>\n",
       "      <td>Toy Story (1995)</td>\n",
       "      <td>Adventure|Animation|Children|Comedy|Fantasy</td>\n",
       "      <td>7</td>\n",
       "      <td>4.5</td>\n",
       "      <td>1106635946</td>\n",
       "    </tr>\n",
       "    <tr>\n",
       "      <th>3</th>\n",
       "      <td>1</td>\n",
       "      <td>Toy Story (1995)</td>\n",
       "      <td>Adventure|Animation|Children|Comedy|Fantasy</td>\n",
       "      <td>15</td>\n",
       "      <td>2.5</td>\n",
       "      <td>1510577970</td>\n",
       "    </tr>\n",
       "    <tr>\n",
       "      <th>4</th>\n",
       "      <td>1</td>\n",
       "      <td>Toy Story (1995)</td>\n",
       "      <td>Adventure|Animation|Children|Comedy|Fantasy</td>\n",
       "      <td>17</td>\n",
       "      <td>4.5</td>\n",
       "      <td>1305696483</td>\n",
       "    </tr>\n",
       "  </tbody>\n",
       "</table>\n",
       "</div>"
      ],
      "text/plain": [
       "   movieId             title                                       genres  \\\n",
       "0        1  Toy Story (1995)  Adventure|Animation|Children|Comedy|Fantasy   \n",
       "1        1  Toy Story (1995)  Adventure|Animation|Children|Comedy|Fantasy   \n",
       "2        1  Toy Story (1995)  Adventure|Animation|Children|Comedy|Fantasy   \n",
       "3        1  Toy Story (1995)  Adventure|Animation|Children|Comedy|Fantasy   \n",
       "4        1  Toy Story (1995)  Adventure|Animation|Children|Comedy|Fantasy   \n",
       "\n",
       "   userId  rating   timestamp  \n",
       "0       1     4.0   964982703  \n",
       "1       5     4.0   847434962  \n",
       "2       7     4.5  1106635946  \n",
       "3      15     2.5  1510577970  \n",
       "4      17     4.5  1305696483  "
      ]
     },
     "execution_count": 176,
     "metadata": {},
     "output_type": "execute_result"
    }
   ],
   "source": [
    "# Merging the 2 sets together to be able to work with all the necessary information...\n",
    "movie_ratings = pd.merge(left=movies,\n",
    "                        right=ratings,\n",
    "                        on ='movieId')\n",
    "movie_ratings.head()"
   ]
  },
  {
   "cell_type": "code",
   "execution_count": 177,
   "id": "cb446187-456b-40e2-b745-9d45b8137350",
   "metadata": {},
   "outputs": [
    {
     "data": {
      "text/html": [
       "<div>\n",
       "<style scoped>\n",
       "    .dataframe tbody tr th:only-of-type {\n",
       "        vertical-align: middle;\n",
       "    }\n",
       "\n",
       "    .dataframe tbody tr th {\n",
       "        vertical-align: top;\n",
       "    }\n",
       "\n",
       "    .dataframe thead th {\n",
       "        text-align: right;\n",
       "    }\n",
       "</style>\n",
       "<table border=\"1\" class=\"dataframe\">\n",
       "  <thead>\n",
       "    <tr style=\"text-align: right;\">\n",
       "      <th></th>\n",
       "      <th>movieId</th>\n",
       "      <th>title</th>\n",
       "      <th>genres</th>\n",
       "      <th>userId</th>\n",
       "      <th>rating</th>\n",
       "      <th>timestamp</th>\n",
       "      <th>year</th>\n",
       "    </tr>\n",
       "  </thead>\n",
       "  <tbody>\n",
       "    <tr>\n",
       "      <th>0</th>\n",
       "      <td>1</td>\n",
       "      <td>Toy Story</td>\n",
       "      <td>Adventure|Animation|Children|Comedy|Fantasy</td>\n",
       "      <td>1</td>\n",
       "      <td>4.0</td>\n",
       "      <td>964982703</td>\n",
       "      <td>1995</td>\n",
       "    </tr>\n",
       "    <tr>\n",
       "      <th>1</th>\n",
       "      <td>1</td>\n",
       "      <td>Toy Story</td>\n",
       "      <td>Adventure|Animation|Children|Comedy|Fantasy</td>\n",
       "      <td>5</td>\n",
       "      <td>4.0</td>\n",
       "      <td>847434962</td>\n",
       "      <td>1995</td>\n",
       "    </tr>\n",
       "    <tr>\n",
       "      <th>2</th>\n",
       "      <td>1</td>\n",
       "      <td>Toy Story</td>\n",
       "      <td>Adventure|Animation|Children|Comedy|Fantasy</td>\n",
       "      <td>7</td>\n",
       "      <td>4.5</td>\n",
       "      <td>1106635946</td>\n",
       "      <td>1995</td>\n",
       "    </tr>\n",
       "    <tr>\n",
       "      <th>3</th>\n",
       "      <td>1</td>\n",
       "      <td>Toy Story</td>\n",
       "      <td>Adventure|Animation|Children|Comedy|Fantasy</td>\n",
       "      <td>15</td>\n",
       "      <td>2.5</td>\n",
       "      <td>1510577970</td>\n",
       "      <td>1995</td>\n",
       "    </tr>\n",
       "    <tr>\n",
       "      <th>4</th>\n",
       "      <td>1</td>\n",
       "      <td>Toy Story</td>\n",
       "      <td>Adventure|Animation|Children|Comedy|Fantasy</td>\n",
       "      <td>17</td>\n",
       "      <td>4.5</td>\n",
       "      <td>1305696483</td>\n",
       "      <td>1995</td>\n",
       "    </tr>\n",
       "  </tbody>\n",
       "</table>\n",
       "</div>"
      ],
      "text/plain": [
       "   movieId       title                                       genres  userId  \\\n",
       "0        1  Toy Story   Adventure|Animation|Children|Comedy|Fantasy       1   \n",
       "1        1  Toy Story   Adventure|Animation|Children|Comedy|Fantasy       5   \n",
       "2        1  Toy Story   Adventure|Animation|Children|Comedy|Fantasy       7   \n",
       "3        1  Toy Story   Adventure|Animation|Children|Comedy|Fantasy      15   \n",
       "4        1  Toy Story   Adventure|Animation|Children|Comedy|Fantasy      17   \n",
       "\n",
       "   rating   timestamp  year  \n",
       "0     4.0   964982703  1995  \n",
       "1     4.0   847434962  1995  \n",
       "2     4.5  1106635946  1995  \n",
       "3     2.5  1510577970  1995  \n",
       "4     4.5  1305696483  1995  "
      ]
     },
     "execution_count": 177,
     "metadata": {},
     "output_type": "execute_result"
    }
   ],
   "source": [
    "#Extracting year to its own column and then seeing assining 100000 to years with no value\n",
    "year = []\n",
    "for movie in movie_ratings['title']:\n",
    "    year_separated=movie[-5:-1]\n",
    "    try: year.append(int(year_separated))\n",
    "    except: year.append(99999)\n",
    "\n",
    "movie_ratings['year']=year\n",
    "# One final step to try to clean this is removing the year from the title columm\n",
    "movie_ratings['title']=movie_ratings['title'].str[:-6]\n",
    "movie_ratings.head()"
   ]
  },
  {
   "cell_type": "code",
   "execution_count": 178,
   "id": "f04283ab-a7bc-4a65-934e-ae8b6cbbad4a",
   "metadata": {},
   "outputs": [
    {
     "data": {
      "text/html": [
       "<div>\n",
       "<style scoped>\n",
       "    .dataframe tbody tr th:only-of-type {\n",
       "        vertical-align: middle;\n",
       "    }\n",
       "\n",
       "    .dataframe tbody tr th {\n",
       "        vertical-align: top;\n",
       "    }\n",
       "\n",
       "    .dataframe thead th {\n",
       "        text-align: right;\n",
       "    }\n",
       "</style>\n",
       "<table border=\"1\" class=\"dataframe\">\n",
       "  <thead>\n",
       "    <tr style=\"text-align: right;\">\n",
       "      <th></th>\n",
       "      <th>movieId</th>\n",
       "      <th>title</th>\n",
       "      <th>genres</th>\n",
       "      <th>userId</th>\n",
       "      <th>rating</th>\n",
       "      <th>timestamp</th>\n",
       "      <th>year</th>\n",
       "    </tr>\n",
       "  </thead>\n",
       "  <tbody>\n",
       "    <tr>\n",
       "      <th>0</th>\n",
       "      <td>1</td>\n",
       "      <td>Toy Story</td>\n",
       "      <td>Adventure|Animation|Children|Comedy|Fantasy</td>\n",
       "      <td>1</td>\n",
       "      <td>4.0</td>\n",
       "      <td>964982703</td>\n",
       "      <td>1995</td>\n",
       "    </tr>\n",
       "    <tr>\n",
       "      <th>1</th>\n",
       "      <td>1</td>\n",
       "      <td>Toy Story</td>\n",
       "      <td>Adventure|Animation|Children|Comedy|Fantasy</td>\n",
       "      <td>5</td>\n",
       "      <td>4.0</td>\n",
       "      <td>847434962</td>\n",
       "      <td>1995</td>\n",
       "    </tr>\n",
       "    <tr>\n",
       "      <th>2</th>\n",
       "      <td>1</td>\n",
       "      <td>Toy Story</td>\n",
       "      <td>Adventure|Animation|Children|Comedy|Fantasy</td>\n",
       "      <td>7</td>\n",
       "      <td>4.5</td>\n",
       "      <td>1106635946</td>\n",
       "      <td>1995</td>\n",
       "    </tr>\n",
       "    <tr>\n",
       "      <th>3</th>\n",
       "      <td>1</td>\n",
       "      <td>Toy Story</td>\n",
       "      <td>Adventure|Animation|Children|Comedy|Fantasy</td>\n",
       "      <td>15</td>\n",
       "      <td>2.5</td>\n",
       "      <td>1510577970</td>\n",
       "      <td>1995</td>\n",
       "    </tr>\n",
       "    <tr>\n",
       "      <th>4</th>\n",
       "      <td>1</td>\n",
       "      <td>Toy Story</td>\n",
       "      <td>Adventure|Animation|Children|Comedy|Fantasy</td>\n",
       "      <td>17</td>\n",
       "      <td>4.5</td>\n",
       "      <td>1305696483</td>\n",
       "      <td>1995</td>\n",
       "    </tr>\n",
       "  </tbody>\n",
       "</table>\n",
       "</div>"
      ],
      "text/plain": [
       "   movieId       title                                       genres  userId  \\\n",
       "0        1  Toy Story   Adventure|Animation|Children|Comedy|Fantasy       1   \n",
       "1        1  Toy Story   Adventure|Animation|Children|Comedy|Fantasy       5   \n",
       "2        1  Toy Story   Adventure|Animation|Children|Comedy|Fantasy       7   \n",
       "3        1  Toy Story   Adventure|Animation|Children|Comedy|Fantasy      15   \n",
       "4        1  Toy Story   Adventure|Animation|Children|Comedy|Fantasy      17   \n",
       "\n",
       "   rating   timestamp  year  \n",
       "0     4.0   964982703  1995  \n",
       "1     4.0   847434962  1995  \n",
       "2     4.5  1106635946  1995  \n",
       "3     2.5  1510577970  1995  \n",
       "4     4.5  1305696483  1995  "
      ]
     },
     "execution_count": 178,
     "metadata": {},
     "output_type": "execute_result"
    }
   ],
   "source": [
    "movie_ratings.head()"
   ]
  },
  {
   "cell_type": "code",
   "execution_count": 179,
   "id": "0b39746d-fb11-43cd-84dc-228148f81f7a",
   "metadata": {},
   "outputs": [
    {
     "data": {
      "text/plain": [
       "30"
      ]
     },
     "execution_count": 179,
     "metadata": {},
     "output_type": "execute_result"
    }
   ],
   "source": [
    "# Number of movies with no year is....\n",
    "len(movie_ratings[movie_ratings['year']==99999])"
   ]
  },
  {
   "cell_type": "code",
   "execution_count": 180,
   "id": "c670b3eb-bee6-4e40-9419-5104800606ca",
   "metadata": {},
   "outputs": [
    {
     "data": {
      "text/plain": [
       "array([ 1995,  1994,  1996,  1976,  1992,  1967,  1993,  1964,  1977,\n",
       "        1965,  1982,  1990,  1991,  1989,  1937,  1940,  1969,  1981,\n",
       "        1973,  1970,  1955,  1959,  1968,  1988,  1997,  1972,  1943,\n",
       "        1952,  1951,  1957,  1961,  1958,  1954,  1934,  1944,  1960,\n",
       "        1963,  1942,  1941,  1953,  1939,  1950,  1946,  1945,  1938,\n",
       "        1947,  1935,  1936,  1956,  1949,  1932,  1975,  1974,  1971,\n",
       "        1979,  1987,  1986,  1980,  1978,  1985,  1966,  1962,  1983,\n",
       "        1984,  1948,  1933,  1931,  1922,  1998,  1929,  1930,  1927,\n",
       "        1928,  1999,  2000,  1926,  1919,  1921,  1925,  1923,  2001,\n",
       "        2002,  2003,  1920,  1915,  1924,  2004,  1916,  1917, 99999,\n",
       "        2005,  2006,  1902,  1903,  2007,  2008,  2009,  2010,  2011,\n",
       "        2012,  2013,  2014,  2015,  2016,  2017,  2018,  1908])"
      ]
     },
     "execution_count": 180,
     "metadata": {},
     "output_type": "execute_result"
    }
   ],
   "source": [
    "movie_ratings['year'].unique()"
   ]
  },
  {
   "cell_type": "code",
   "execution_count": 181,
   "id": "93a059fa-1302-4b63-9be9-2734056d5e83",
   "metadata": {},
   "outputs": [],
   "source": [
    "#Attempting to remove those missing years...\n",
    "movie_ratings=movie_ratings.loc[movie_ratings['year'] != 99999]\n",
    "\n"
   ]
  },
  {
   "cell_type": "code",
   "execution_count": 182,
   "id": "ab197925-29f7-4304-9714-7d1517a4092e",
   "metadata": {},
   "outputs": [
    {
     "data": {
      "text/plain": [
       "0"
      ]
     },
     "execution_count": 182,
     "metadata": {},
     "output_type": "execute_result"
    }
   ],
   "source": [
    "len(movie_ratings[movie_ratings['year']==99999])"
   ]
  },
  {
   "cell_type": "code",
   "execution_count": 183,
   "id": "af736ea7-55e5-4adb-a352-084a70062a77",
   "metadata": {},
   "outputs": [
    {
     "data": {
      "text/plain": [
       "0"
      ]
     },
     "execution_count": 183,
     "metadata": {},
     "output_type": "execute_result"
    }
   ],
   "source": [
    "movie_ratings['year'].isna().sum()"
   ]
  },
  {
   "cell_type": "code",
   "execution_count": 184,
   "id": "d01959c3-326e-4cc4-a065-6aeb916cc30a",
   "metadata": {},
   "outputs": [
    {
     "data": {
      "text/plain": [
       "0"
      ]
     },
     "execution_count": 184,
     "metadata": {},
     "output_type": "execute_result"
    }
   ],
   "source": [
    "\n",
    "movie_ratings.duplicated(keep = 'first').sum()"
   ]
  },
  {
   "cell_type": "code",
   "execution_count": 185,
   "id": "664e5dc0-7b54-4d67-9b37-5069f31e39c5",
   "metadata": {},
   "outputs": [
    {
     "data": {
      "text/plain": [
       "movieId      0\n",
       "title        0\n",
       "genres       0\n",
       "userId       0\n",
       "rating       0\n",
       "timestamp    0\n",
       "year         0\n",
       "dtype: int64"
      ]
     },
     "execution_count": 185,
     "metadata": {},
     "output_type": "execute_result"
    }
   ],
   "source": [
    "movie_ratings.isna().sum()"
   ]
  },
  {
   "cell_type": "code",
   "execution_count": 186,
   "id": "286be061-2bdc-4795-ae45-9e8b32f92c29",
   "metadata": {},
   "outputs": [
    {
     "name": "stdout",
     "output_type": "stream",
     "text": [
      "<class 'pandas.core.frame.DataFrame'>\n",
      "Int64Index: 100806 entries, 0 to 100835\n",
      "Data columns (total 6 columns):\n",
      " #   Column   Non-Null Count   Dtype  \n",
      "---  ------   --------------   -----  \n",
      " 0   movieId  100806 non-null  int64  \n",
      " 1   title    100806 non-null  object \n",
      " 2   genres   100806 non-null  object \n",
      " 3   userId   100806 non-null  int64  \n",
      " 4   rating   100806 non-null  float64\n",
      " 5   year     100806 non-null  int64  \n",
      "dtypes: float64(1), int64(3), object(2)\n",
      "memory usage: 5.4+ MB\n"
     ]
    }
   ],
   "source": [
    "#Dataset is shaping up, dropping the timestap as it is not needed:\n",
    "movie_ratings.drop(columns='timestamp', inplace = True)\n",
    "movie_ratings.info()"
   ]
  },
  {
   "cell_type": "markdown",
   "id": "12aaba6c-b569-48a2-ad8a-9630bf6b6baf",
   "metadata": {},
   "source": [
    "## EDA\n",
    "****\n",
    "Our initial dataframe looks like it should be good to work with from here. There were some columns that needed to be cleaned or dropped and some movies with the years missing. But that should be straightened out now. \n",
    "Going forward we are going to look at some columns specifically to try to identify trends or other useful data.\n",
    "***\n",
    "#### Year"
   ]
  },
  {
   "cell_type": "code",
   "execution_count": 187,
   "id": "e3f04275-05e5-449b-9929-4af3f4473af2",
   "metadata": {},
   "outputs": [
    {
     "data": {
      "text/html": [
       "<div>\n",
       "<style scoped>\n",
       "    .dataframe tbody tr th:only-of-type {\n",
       "        vertical-align: middle;\n",
       "    }\n",
       "\n",
       "    .dataframe tbody tr th {\n",
       "        vertical-align: top;\n",
       "    }\n",
       "\n",
       "    .dataframe thead th {\n",
       "        text-align: right;\n",
       "    }\n",
       "</style>\n",
       "<table border=\"1\" class=\"dataframe\">\n",
       "  <thead>\n",
       "    <tr style=\"text-align: right;\">\n",
       "      <th></th>\n",
       "      <th>year</th>\n",
       "      <th>title</th>\n",
       "    </tr>\n",
       "  </thead>\n",
       "  <tbody>\n",
       "    <tr>\n",
       "      <th>0</th>\n",
       "      <td>1902</td>\n",
       "      <td>5</td>\n",
       "    </tr>\n",
       "    <tr>\n",
       "      <th>1</th>\n",
       "      <td>1903</td>\n",
       "      <td>2</td>\n",
       "    </tr>\n",
       "    <tr>\n",
       "      <th>2</th>\n",
       "      <td>1908</td>\n",
       "      <td>1</td>\n",
       "    </tr>\n",
       "    <tr>\n",
       "      <th>3</th>\n",
       "      <td>1915</td>\n",
       "      <td>1</td>\n",
       "    </tr>\n",
       "    <tr>\n",
       "      <th>4</th>\n",
       "      <td>1916</td>\n",
       "      <td>5</td>\n",
       "    </tr>\n",
       "    <tr>\n",
       "      <th>5</th>\n",
       "      <td>1917</td>\n",
       "      <td>1</td>\n",
       "    </tr>\n",
       "    <tr>\n",
       "      <th>6</th>\n",
       "      <td>1919</td>\n",
       "      <td>1</td>\n",
       "    </tr>\n",
       "    <tr>\n",
       "      <th>7</th>\n",
       "      <td>1920</td>\n",
       "      <td>8</td>\n",
       "    </tr>\n",
       "    <tr>\n",
       "      <th>8</th>\n",
       "      <td>1921</td>\n",
       "      <td>5</td>\n",
       "    </tr>\n",
       "    <tr>\n",
       "      <th>9</th>\n",
       "      <td>1922</td>\n",
       "      <td>16</td>\n",
       "    </tr>\n",
       "  </tbody>\n",
       "</table>\n",
       "</div>"
      ],
      "text/plain": [
       "   year  title\n",
       "0  1902      5\n",
       "1  1903      2\n",
       "2  1908      1\n",
       "3  1915      1\n",
       "4  1916      5\n",
       "5  1917      1\n",
       "6  1919      1\n",
       "7  1920      8\n",
       "8  1921      5\n",
       "9  1922     16"
      ]
     },
     "execution_count": 187,
     "metadata": {},
     "output_type": "execute_result"
    }
   ],
   "source": [
    "# Looking at the year column to see the disribution..\n",
    "year_count = movie_ratings.groupby('year').count()['title'].reset_index()\n",
    "year_count.head(10)"
   ]
  },
  {
   "cell_type": "code",
   "execution_count": 188,
   "id": "a6ba6dfc-c1a7-4f74-b6d6-3a95c13b1fcc",
   "metadata": {},
   "outputs": [
    {
     "data": {
      "text/html": [
       "<div>\n",
       "<style scoped>\n",
       "    .dataframe tbody tr th:only-of-type {\n",
       "        vertical-align: middle;\n",
       "    }\n",
       "\n",
       "    .dataframe tbody tr th {\n",
       "        vertical-align: top;\n",
       "    }\n",
       "\n",
       "    .dataframe thead th {\n",
       "        text-align: right;\n",
       "    }\n",
       "</style>\n",
       "<table border=\"1\" class=\"dataframe\">\n",
       "  <thead>\n",
       "    <tr style=\"text-align: right;\">\n",
       "      <th></th>\n",
       "      <th>year</th>\n",
       "      <th>title</th>\n",
       "    </tr>\n",
       "  </thead>\n",
       "  <tbody>\n",
       "    <tr>\n",
       "      <th>count</th>\n",
       "      <td>106.000000</td>\n",
       "      <td>106.000000</td>\n",
       "    </tr>\n",
       "    <tr>\n",
       "      <th>mean</th>\n",
       "      <td>1965.198113</td>\n",
       "      <td>951.000000</td>\n",
       "    </tr>\n",
       "    <tr>\n",
       "      <th>std</th>\n",
       "      <td>31.291691</td>\n",
       "      <td>1345.683307</td>\n",
       "    </tr>\n",
       "    <tr>\n",
       "      <th>min</th>\n",
       "      <td>1902.000000</td>\n",
       "      <td>1.000000</td>\n",
       "    </tr>\n",
       "    <tr>\n",
       "      <th>25%</th>\n",
       "      <td>1939.250000</td>\n",
       "      <td>66.750000</td>\n",
       "    </tr>\n",
       "    <tr>\n",
       "      <th>50%</th>\n",
       "      <td>1965.500000</td>\n",
       "      <td>256.500000</td>\n",
       "    </tr>\n",
       "    <tr>\n",
       "      <th>75%</th>\n",
       "      <td>1991.750000</td>\n",
       "      <td>1424.750000</td>\n",
       "    </tr>\n",
       "    <tr>\n",
       "      <th>max</th>\n",
       "      <td>2018.000000</td>\n",
       "      <td>6143.000000</td>\n",
       "    </tr>\n",
       "  </tbody>\n",
       "</table>\n",
       "</div>"
      ],
      "text/plain": [
       "              year        title\n",
       "count   106.000000   106.000000\n",
       "mean   1965.198113   951.000000\n",
       "std      31.291691  1345.683307\n",
       "min    1902.000000     1.000000\n",
       "25%    1939.250000    66.750000\n",
       "50%    1965.500000   256.500000\n",
       "75%    1991.750000  1424.750000\n",
       "max    2018.000000  6143.000000"
      ]
     },
     "execution_count": 188,
     "metadata": {},
     "output_type": "execute_result"
    }
   ],
   "source": [
    "year_count.describe()"
   ]
  },
  {
   "cell_type": "code",
   "execution_count": 189,
   "id": "6af40ee2-185d-4ec5-8518-0ef628b1b137",
   "metadata": {},
   "outputs": [
    {
     "data": {
      "image/png": "[encoded data removed]",
      "text/plain": [
       "<Figure size 1440x576 with 1 Axes>"
      ]
     },
     "metadata": {
      "needs_background": "light"
     },
     "output_type": "display_data"
    }
   ],
   "source": [
    " #plot the years - lineplot \n",
    "\n",
    "with plt.style.context('seaborn-poster'):\n",
    "    fig, ax = plt.subplots(figsize=(20,8))\n",
    "    sns.lineplot(x='year', \n",
    "                 y = 'title', \n",
    "                 data=year_count, \n",
    "                 color='tab:blue');\n",
    "    \n",
    "    plt.xlabel(\"Year\", fontsize=16)\n",
    "    plt.ylabel(\"# of Movies\", fontsize=16)\n",
    "    plt.title(\"# of Movies by Year\",fontsize=20)\n",
    "    plt.xticks(fontsize=14, rotation=45)\n",
    "    plt.yticks(fontsize=14)\n",
    "    ax.grid(False)\n",
    "    plt.show()"
   ]
  },
  {
   "cell_type": "markdown",
   "id": "f1e74fa5-4af5-498b-9854-606ace907f9e",
   "metadata": {},
   "source": [
    "So after looking at the information provided in the dataset we see there are a total of 106 years where a movie was made and entered into this dataset, but they are not all continous. The lineplot shows that the vast majority of films were made starting at the end of the 20th centruy.\n",
    "***\n",
    "#### Ratings"
   ]
  },
  {
   "cell_type": "code",
   "execution_count": 190,
   "id": "d921887d-9583-404f-be50-ca7f363945e8",
   "metadata": {},
   "outputs": [
    {
     "data": {
      "text/plain": [
       "count    100806.000000\n",
       "mean          3.501592\n",
       "std           1.042414\n",
       "min           0.500000\n",
       "25%           3.000000\n",
       "50%           3.500000\n",
       "75%           4.000000\n",
       "max           5.000000\n",
       "Name: rating, dtype: float64"
      ]
     },
     "execution_count": 190,
     "metadata": {},
     "output_type": "execute_result"
    }
   ],
   "source": [
    "# Ratings:\n",
    "movie_ratings['rating'].describe()"
   ]
  },
  {
   "cell_type": "code",
   "execution_count": 191,
   "id": "d863fddf-a194-4ee8-aae2-16e2f45b4a56",
   "metadata": {},
   "outputs": [
    {
     "data": {
      "image/png": "[encoded data removed]",
      "text/plain": [
       "<Figure size 432x288 with 1 Axes>"
      ]
     },
     "metadata": {
      "needs_background": "light"
     },
     "output_type": "display_data"
    }
   ],
   "source": [
    "sns.countplot(movie_ratings['rating'])\n",
    "plt.title('Movie Rating / Count');"
   ]
  },
  {
   "cell_type": "markdown",
   "id": "d3b37540-2de8-417a-ac0e-b551f0dd2b32",
   "metadata": {},
   "source": [
    "As mentioned before the average movie rating is just over 3.5. But this is something we will have to look more closely at, how many ratings is each movie getting? Should we set a minimum number of ratings?\n",
    "***\n",
    "#### Genre"
   ]
  },
  {
   "cell_type": "code",
   "execution_count": 192,
   "id": "9e2001a0-de09-47b6-9855-4aabcde8e85f",
   "metadata": {},
   "outputs": [
    {
     "ename": "NameError",
     "evalue": "name 'movies_df' is not defined",
     "output_type": "error",
     "traceback": [
      "\u001b[0;31m---------------------------------------------------------------------------\u001b[0m",
      "\u001b[0;31mNameError\u001b[0m                                 Traceback (most recent call last)",
      "\u001b[0;32m<ipython-input-192-bd020119a696>\u001b[0m in \u001b[0;36m<module>\u001b[0;34m\u001b[0m\n\u001b[1;32m      1\u001b[0m \u001b[0;31m# As many of these don't have any genres as well, we will drop these rows\u001b[0m\u001b[0;34m\u001b[0m\u001b[0;34m\u001b[0m\u001b[0;34m\u001b[0m\u001b[0m\n\u001b[0;32m----> 2\u001b[0;31m \u001b[0mmovies_df\u001b[0m \u001b[0;34m=\u001b[0m \u001b[0mmovies_df\u001b[0m\u001b[0;34m.\u001b[0m\u001b[0mdropna\u001b[0m\u001b[0;34m(\u001b[0m\u001b[0msubset\u001b[0m\u001b[0;34m=\u001b[0m\u001b[0;34m[\u001b[0m\u001b[0;34m'year'\u001b[0m\u001b[0;34m]\u001b[0m\u001b[0;34m,\u001b[0m\u001b[0mhow\u001b[0m\u001b[0;34m=\u001b[0m\u001b[0;34m'any'\u001b[0m\u001b[0;34m)\u001b[0m\u001b[0;34m\u001b[0m\u001b[0;34m\u001b[0m\u001b[0m\n\u001b[0m",
      "\u001b[0;31mNameError\u001b[0m: name 'movies_df' is not defined"
     ]
    }
   ],
   "source": [
    "# As many of these don't have any genres as well, we will drop these rows\n",
    "movies_df = movies_df.dropna(subset=['year'],how='any')"
   ]
  },
  {
   "cell_type": "code",
   "execution_count": null,
   "id": "30a7cbf4-3aee-4c63-be62-48c5315825ac",
   "metadata": {},
   "outputs": [],
   "source": [
    "# CLEAN GENRE DATA \n",
    "# separate genres from each other and see how many genres there are \n",
    "\n",
    "genre_df = pd.DataFrame(movie_ratings['genres'].\n",
    "                        str.split('|').\n",
    "                        tolist(), \n",
    "                        index=movie_ratings['movieId']\n",
    "                       ).stack()\n",
    "\n",
    "# reset index \n",
    "\n",
    "genre_df = genre_df.reset_index([0, 'movieId'])\n",
    "\n",
    "# create columns movieId and genre \n",
    "\n",
    "genre_df.columns = ['movieId', 'genre']"
   ]
  },
  {
   "cell_type": "code",
   "execution_count": null,
   "id": "ae3bbf02-9460-432d-bbda-3b8dc1c40c8f",
   "metadata": {},
   "outputs": [],
   "source": [
    "genre_df.head()"
   ]
  },
  {
   "cell_type": "code",
   "execution_count": null,
   "id": "2fc67402-2f56-4fc2-837f-b6d03b61668f",
   "metadata": {},
   "outputs": [],
   "source": [
    "genre_df.info()"
   ]
  },
  {
   "cell_type": "code",
   "execution_count": null,
   "id": "910cec17-c233-4d0c-8de5-8f11f9a765d4",
   "metadata": {},
   "outputs": [],
   "source": [
    "genre_df_sorted = (\n",
    "    genre_df['genre']\n",
    "    .value_counts()\n",
    "    .sort_values(ascending=False)\n",
    "    .reset_index()\n",
    "    )\n",
    "\n",
    "genre_df_sorted"
   ]
  },
  {
   "cell_type": "code",
   "execution_count": null,
   "id": "3f70ce49-545c-44b6-9549-f09cefdb4ab7",
   "metadata": {},
   "outputs": [],
   "source": [
    "fig, ax = plt.subplots(figsize=(24,8))\n",
    "sns.barplot(x = 'index',\n",
    "           y = 'genre',\n",
    "           data = genre_df_sorted);\n",
    "\n",
    "plt.title('Genres / Count');\n",
    "ax.grid(False)\n",
    "plt.show()"
   ]
  },
  {
   "cell_type": "markdown",
   "id": "4e696c20-fe61-4bec-9cd2-35353d1e753b",
   "metadata": {},
   "source": [
    "***\n",
    "For genres we see that Drama is in the lead with Comedies, and Action trailing close behind. \n",
    "\n",
    "Now that weve taken a look at some of the trends in the data we will begin to transform the dataset so it works the way we want it when the models begin. For example, we mentioned earlier it seems like a good idea to set a minimum number of ratings for movies, otherwise an obscure movie that has one 5 star review may pull the same weight as a movie with hundreds of 5 star reviews. \n",
    "***"
   ]
  },
  {
   "cell_type": "code",
   "execution_count": null,
   "id": "2abc2183-3046-4595-9a0a-f6fc9ed56d54",
   "metadata": {},
   "outputs": [],
   "source": [
    "# movies with no ratings receive 0 as their average rating\n",
    "avg_rating = movie_ratings.groupby('title').rating.mean()\n",
    "num_rating = movie_ratings.groupby('title').userId.count()\n",
    "movie_popularity = movie_ratings[\"title\"].value_counts()\n",
    "\n"
   ]
  },
  {
   "cell_type": "code",
   "execution_count": null,
   "id": "d6ee7c67-3922-4942-95ec-49877d900f68",
   "metadata": {},
   "outputs": [],
   "source": [
    "num_rating.head()"
   ]
  },
  {
   "cell_type": "code",
   "execution_count": null,
   "id": "310685ea-8501-42dd-9bc7-5afc85194a18",
   "metadata": {},
   "outputs": [],
   "source": [
    "avg_rating.describe()"
   ]
  },
  {
   "cell_type": "code",
   "execution_count": null,
   "id": "e8c59a36-36a4-47f7-8bc3-3afd69c3e0ff",
   "metadata": {},
   "outputs": [],
   "source": [
    "num_rating.describe()"
   ]
  },
  {
   "cell_type": "code",
   "execution_count": null,
   "id": "1428bddc-cb6a-4b5f-ab92-b9b17f751646",
   "metadata": {},
   "outputs": [],
   "source": [
    "movie_popularity.describe()"
   ]
  },
  {
   "cell_type": "code",
   "execution_count": null,
   "id": "d8d78d38-8ce8-424c-9c4c-8d4e377b207f",
   "metadata": {},
   "outputs": [],
   "source": [
    "# Making this dataframe to separate movies that actually have a substantial amount of reviews\n",
    "popular_movies = movie_popularity[movie_popularity > 50]\n",
    "popular_movies.describe()"
   ]
  },
  {
   "cell_type": "code",
   "execution_count": null,
   "id": "698963fd-6ee0-4dfe-867c-c077fabe9a1c",
   "metadata": {},
   "outputs": [],
   "source": [
    "# create a column called 'RatingsCounts' - number of ratings for each movie\n",
    "\n",
    "num_ratings = pd.DataFrame(\n",
    "    movie_ratings\n",
    "    .groupby('movieId')\n",
    "    .count()['rating']\n",
    "    ).reset_index()\n",
    "\n",
    "movie_ratings = pd.merge(left=movie_ratings, \n",
    "                              right=num_ratings, \n",
    "                              on='movieId')\n",
    "\n",
    "movie_ratings.rename(columns={'rating_x': 'rating', \n",
    "                                   'rating_y': 'RatingsCount'}, \n",
    "                          inplace=True)"
   ]
  },
  {
   "cell_type": "code",
   "execution_count": null,
   "id": "83d68bce-f9e9-4f7e-923c-b46014e91780",
   "metadata": {},
   "outputs": [],
   "source": [
    "movie_ratings.head()"
   ]
  },
  {
   "cell_type": "code",
   "execution_count": null,
   "id": "312098c3-b0fb-41b1-9c89-88ab423fd4f5",
   "metadata": {},
   "outputs": [],
   "source": [
    "# sort by ratings counts \n",
    "\n",
    "movies_and_ratings_sorted = (\n",
    "    movie_ratings\n",
    "    .sort_values(by='RatingsCount', ascending=False)\n",
    "    .drop_duplicates('movieId')\n",
    "    )\n",
    "\n",
    "movies_and_ratings_sorted"
   ]
  },
  {
   "cell_type": "code",
   "execution_count": null,
   "id": "a484fc00-8f33-4c37-98ed-71ea62ac4469",
   "metadata": {},
   "outputs": [],
   "source": [
    "movie_ratings.info()"
   ]
  },
  {
   "cell_type": "code",
   "execution_count": null,
   "id": "4d2b5828-6dd8-4472-b883-1c065cb6f58e",
   "metadata": {},
   "outputs": [],
   "source": [
    "movie_ratings_final = pd.merge(movie_ratings, avg_rating, how='left', on='title')\n",
    "movie_ratings_final.head()"
   ]
  },
  {
   "cell_type": "code",
   "execution_count": null,
   "id": "7c4b78b2-441d-4c6a-91b0-e36801409809",
   "metadata": {},
   "outputs": [],
   "source": [
    "movie_ratings_final.rename(columns={'rating_x': 'Rating', \n",
    "                                   'rating_y': 'Avg_Rating'}, \n",
    "                          inplace=True)"
   ]
  },
  {
   "cell_type": "code",
   "execution_count": null,
   "id": "00b5257d-07d0-4a0a-bd8e-7f2ca7377527",
   "metadata": {},
   "outputs": [],
   "source": [
    "movie_ratings_final.head()"
   ]
  },
  {
   "cell_type": "code",
   "execution_count": null,
   "id": "4c469d51-38fa-4605-89ea-9bb0217257d8",
   "metadata": {},
   "outputs": [],
   "source": [
    "movie_ratings_final.info()"
   ]
  },
  {
   "cell_type": "markdown",
   "id": "f6329057-7eb5-441a-b818-c079c33c8627",
   "metadata": {},
   "source": [
    "***\n",
    "## Recommendation Systems:\n",
    "\n",
    "### Preparing First mode:\n"
   ]
  },
  {
   "cell_type": "code",
   "execution_count": null,
   "id": "6b90ae66-45a8-4215-aacc-307f2c1dd729",
   "metadata": {},
   "outputs": [],
   "source": [
    "# read in values as Surprise dataset\n",
    "reader = Reader(rating_scale=(0,5))\n",
    "data = Dataset.load_from_df(movies_and_ratings_sorted[['userId', 'title', 'rating']], reader)\n",
    "\n"
   ]
  },
  {
   "cell_type": "code",
   "execution_count": null,
   "id": "78940e45-a727-490a-9445-ecbb7ba4d15c",
   "metadata": {},
   "outputs": [],
   "source": [
    "dataset = data.build_full_trainset()\n",
    "print('Number of users: ', dataset.n_users, '\\n')\n",
    "print('Number of items: ', dataset.n_items)"
   ]
  },
  {
   "cell_type": "markdown",
   "id": "e31c4eee-8d94-4bc5-853e-3eef2a4c8a67",
   "metadata": {},
   "source": [
    "###  Types of Algorithms being used and Cross Validation Technique:\n",
    "#### KNN :\n",
    "K nearest neighbors (KNN) is a classification algorithm that is used to predict the class of an unknown data point based on its proximity to other known data points. It works by finding the K data points in the training set that are closest to the unknown data point, and then using the class of those K data points to predict the class of the unknown data point.\n",
    "\n",
    "#### Matrix Factorization(SVD):\n",
    "SVD is useful for a variety of applications, such as data compression, matrix approximation, and data analysis. It can be used to decompose a matrix into its constituent parts, which can reveal underlying patterns and structure in the data.\n",
    "\n",
    "#### Cross-Validation:\n",
    "Often times we use the train_test_split function to evaluate the model.\n",
    "But in this case it seems a better option is to use k-fold cross-validation, which involves dividing the dataset into k folds and training and evaluating the model k times, with each fold serving as the test set once. This can provide a more robust evaluation of the model by training and evaluating the model on different subsets of the data.\n",
    "\n"
   ]
  },
  {
   "cell_type": "code",
   "execution_count": null,
   "id": "25d65355-15e9-4b12-a62f-5187a0d012a0",
   "metadata": {},
   "outputs": [],
   "source": [
    "## Perform a gridsearch with SVD( Matrix Decomposition)\n",
    "# ⏰ This cell may take several minutes to run\n",
    "params = {'n_factors': [20, 50, 100],\n",
    "         'reg_all': [0.02, 0.05, 0.1]}\n",
    "g_s_svd = GridSearchCV(SVD,param_grid=params,n_jobs=-1)\n",
    "g_s_svd.fit(data)\n"
   ]
  },
  {
   "cell_type": "code",
   "execution_count": null,
   "id": "6539c38b-56ee-44dd-a2c9-de2ccad159bf",
   "metadata": {},
   "outputs": [],
   "source": [
    "print(g_s_svd.best_score)\n",
    "print(g_s_svd.best_params)"
   ]
  },
  {
   "cell_type": "code",
   "execution_count": null,
   "id": "f2f58b1d-b74c-4efc-8ab3-671c405ef981",
   "metadata": {},
   "outputs": [],
   "source": [
    "cv_svd = cross_validate(SVD(), data, cv=5, n_jobs=5, verbose=True)\n",
    "cv_svd_pp = cross_validate(SVDpp(), data, cv=5, n_jobs=5, verbose=True)"
   ]
  },
  {
   "cell_type": "code",
   "execution_count": null,
   "id": "ea5c8d77-8b1e-4f94-9e83-a423c92740af",
   "metadata": {},
   "outputs": [],
   "source": [
    "# knn algoritms\n",
    "cv_knn_basic = cross_validate(KNNBasic(), data, cv=5, n_jobs=5, verbose=True)\n",
    "cv_knn_means = cross_validate(KNNWithMeans(), data, cv=5, n_jobs=5, verbose=True)\n",
    "cv_knn_z = cross_validate(KNNWithZScore(), data, cv=5, n_jobs=5, verbose=True)"
   ]
  },
  {
   "cell_type": "code",
   "execution_count": null,
   "id": "25474d04-3084-4ee1-bb1d-74f7c94bccb3",
   "metadata": {},
   "outputs": [],
   "source": [
    "# Printing out the results for the KNN algoritms\n",
    "print('Evaluation Results:')\n",
    "print('Algoritm\\t RMSE\\t\\t MAE')\n",
    "print()\n",
    "print('KNN Basic', '\\t', round(cv_knn_basic['test_rmse'].mean(), 4), '\\t\\t', round(cv_knn_basic['test_mae'].mean(), 4))\n",
    "print('KNN Means', '\\t', round(cv_knn_means['test_rmse'].mean(), 4), '\\t', round(cv_knn_means['test_mae'].mean(), 4))\n",
    "print('KNN ZScore', '\\t', round(cv_knn_z['test_rmse'].mean(), 4), '\\t', round(cv_knn_z['test_mae'].mean(), 4))\n",
    "print('SVD', '\\t\\t', round(cv_svd['test_rmse'].mean(), 4), '\\t', round(cv_svd['test_mae'].mean(), 4))\n",
    "print('SVDpp', '\\t\\t', round(cv_svd_pp['test_rmse'].mean(), 4), '\\t', round(cv_svd_pp['test_mae'].mean(), 4))\n"
   ]
  },
  {
   "cell_type": "code",
   "execution_count": null,
   "id": "1d8e1688-5fef-45b1-875f-04492755eb32",
   "metadata": {},
   "outputs": [],
   "source": [
    "# Printing results for best SVD score and parameters\n",
    "\n",
    "print(g_s_svd.best_score)\n",
    "print(g_s_svd.best_params)\n"
   ]
  },
  {
   "cell_type": "code",
   "execution_count": null,
   "id": "c9a089e0-fb19-4739-a2d7-2353ea1c4edd",
   "metadata": {},
   "outputs": [],
   "source": [
    "# Plotting graphs for comparing accuracy of each algo\n",
    "x_algo = ['KNN Basic', 'KNN Means', 'KNN ZScore', 'SVD', 'SVDpp',]\n",
    "all_algos_cv = [cv_knn_basic, cv_knn_means, cv_knn_z, cv_svd, cv_svd_pp]\n",
    "\n",
    "rmse_cv = [round(res['test_rmse'].mean(), 4) for res in all_algos_cv]\n",
    "mae_cv = [round(res['test_mae'].mean(), 4) for res in all_algos_cv]\n",
    "\n",
    "plt.figure(figsize=(20,5))\n",
    "\n",
    "# RMSE graph\n",
    "plt.subplot(1, 2, 1)\n",
    "plt.title('Comparison of Algorithms on RMSE', loc='center', fontsize=15)\n",
    "plt.plot(x_algo, rmse_cv, label='RMSE', color='darkgreen', marker='o')\n",
    "plt.xlabel('Algorithms', fontsize=15)\n",
    "plt.ylabel('RMSE Value', fontsize=15)\n",
    "plt.legend()\n",
    "plt.grid(ls='dashed')\n",
    "\n",
    "# MAE graph\n",
    "plt.subplot(1, 2, 2)\n",
    "plt.title('Comparison of Algorithms on MAE', loc='center', fontsize=15)\n",
    "plt.plot(x_algo, mae_cv, label='MAE', color='navy', marker='o')\n",
    "plt.xlabel('Algorithms', fontsize=15)\n",
    "plt.ylabel('MAE Value', fontsize=15)\n",
    "plt.legend()\n",
    "plt.grid(ls='dashed')\n",
    "plt.show()\n"
   ]
  },
  {
   "cell_type": "markdown",
   "id": "e2724a61-d2bf-4251-9c8a-2654bc8f4d58",
   "metadata": {},
   "source": [
    "## Initial Model Scores:\n",
    "It looks like our best matrix factorization model is the SVD model with the paramters of 20 n_factors and a reg_all set at 20%, producing a scores of RMSE: .938 and MAE: .730.\n",
    "\n",
    "For the KNN models it appears to be the Means model with an unimpressive RMSE of 1.08 and MAE of .877.\n",
    "\n",
    "The 2 metrics being used are RMSE and MAE. \n",
    "\n",
    "RMSE is a measure of the difference between the predicted values and the true values. It is calculated by taking the square root of the mean squared error (MSE), which is the average of the squared differences between the predicted and true values.\n",
    "\n",
    "MAE, on the other hand, measures the average magnitude of the errors in a set of predictions, without considering their direction. It is calculated by taking the absolute value of the difference between the true value and the predicted value, and then averaging over all the data points.\n",
    "\n",
    "In both cases the lower the score the better.\n",
    "\n",
    "An avarage MAE of 0.73 for SVD indicates an avarage absolute error of 0.73 between the true and predicted ratings. I will try to reduce this error further by tuning hyperparameters."
   ]
  },
  {
   "cell_type": "markdown",
   "id": "3138c16d-4c3a-41a1-9b09-9c009658cb6c",
   "metadata": {},
   "source": [
    "***\n",
    "## Tuning the KNN Algos:\n",
    "The optimal parameters for a k-nearest neighbors (KNN) model depend on the specific characteristics of the data and the problem you are trying to solve. Here are a few things to consider when choosing the values for the K and distance metric hyperparameters:\n",
    "\n",
    "K: In general, a larger value for K will result in a smoother decision boundary, which can help to reduce overfitting. However, a very large value for K may also lead to a model that is too slow or too simple to capture the complexity of the data. It is often recommended to try a range of values for K and use cross-validation to select the best one.\n",
    "\n",
    "Distance metric: The distance metric you choose should be appropriate for the characteristics of your data. For example, if your data is ordinal (e.g., low, medium, high) or categorical (e.g., red, green, blue), you may want to use a distance metric that is designed for these types of data, such as the Hamming distance. On the other hand, if your data is continuous and distributed evenly, you may want to use a distance metric such as Euclidean distance.\n",
    "\n",
    "Ultimately, the best way to find the optimal KNN parameters is to experiment with different values and evaluate the performance of the model using cross-validation, Grid-Search or other evaluation metrics.\n",
    "\n",
    "Therefore below we will use a range(5-100 )for K and use the grid search. Also, GridSearchCV is a method in scikit-learn, a popular machine learning library in Python, that can be used to search for the best hyperparameters for a model. When applied to a k-nearest neighbors (KNN) model, GridSearchCV will try a range of values for the K and distance metric hyperparameters and use cross-validation to evaluate the performance of the model for each combination of hyperparameters. \n",
    "\n",
    "\n"
   ]
  },
  {
   "cell_type": "code",
   "execution_count": null,
   "id": "b182d421-339e-42f0-8c52-5b45cc503f9e",
   "metadata": {},
   "outputs": [],
   "source": [
    "param_grid = {'k': [5, 10, 15, 20, 25, 30, 35, 40, 50, 60, 70, 80, 90, 100]}\n",
    "\n",
    "gs_knn_means = GridSearchCV(KNNWithMeans, param_grid, measures=['rmse', 'mae'], cv=5, n_jobs=5)\n",
    "gs_knn_means.fit(data)\n",
    "\n"
   ]
  },
  {
   "cell_type": "code",
   "execution_count": null,
   "id": "8eb7a3a2-1c8b-416c-9128-603f0a18fda6",
   "metadata": {},
   "outputs": [],
   "source": [
    "print(gs_knn_means.best_score)\n",
    "print(gs_knn_means.best_params)\n",
    "\n"
   ]
  },
  {
   "cell_type": "markdown",
   "id": "043a867a-b31e-4c46-b176-d3dfac3c588c",
   "metadata": {},
   "source": [
    "### Optimizing Results:\n",
    "##### RMSE : 1.08\n",
    "##### MAE  : 0.876\n",
    "##### K    : 20\n",
    "\n",
    "****\n",
    "Now we will attempt to find the best distance metric:"
   ]
  },
  {
   "cell_type": "code",
   "execution_count": null,
   "id": "f4bc53ee-ab3e-4b36-8f83-a70b2a7a12b9",
   "metadata": {},
   "outputs": [],
   "source": [
    "# comparing distance matrix\n",
    "\n",
    "knn_means_cosine = cross_validate(KNNWithMeans(k=20, sim_options={'name':'cosine'}), data, cv=5, n_jobs=5, verbose=True)\n",
    "knn_means_pearson = cross_validate(KNNWithMeans(k=20, sim_options={'name':'pearson'}), data, cv=5, n_jobs=5, verbose=True)\n",
    "knn_means_msd = cross_validate(KNNWithMeans(k=20, sim_options={'name':'msd'}), data, cv=5, n_jobs=5, verbose=True)\n",
    "knn_means_pearson_baseline = cross_validate(KNNWithMeans(k=20, sim_options={'name':'pearson_baseline'}), data, cv=5, n_jobs=5, verbose=True)\n",
    "\n"
   ]
  },
  {
   "cell_type": "code",
   "execution_count": null,
   "id": "ad8e5622-5d44-4e3d-8f41-325d8f8cf62d",
   "metadata": {},
   "outputs": [],
   "source": [
    "# Printing out the results for the KNN algoritms\n",
    "print('Evaluation Results:')\n",
    "print('Algoritm \\t RMSE\\t\\t MAE')\n",
    "print()\n",
    "print('COSINE','\\t', round(knn_means_cosine['test_rmse'].mean(), 4), '\\t\\t', round(knn_means_cosine['test_mae'].mean(), 4))\n",
    "print('PEARSON', '\\t', round(knn_means_pearson['test_rmse'].mean(), 4), '\\t', round(knn_means_pearson['test_mae'].mean(), 4))\n",
    "print('MSD', '\\t', round(knn_means_msd['test_rmse'].mean(), 4), '\\t', round(knn_means_msd['test_mae'].mean(), 4))\n",
    "print('PEARSON BASELINE', '\\t', round(knn_means_pearson_baseline['test_rmse'].mean(), 4), '\\t', round(knn_means_pearson_baseline['test_mae'].mean(), 4))\n",
    "\n",
    "\n"
   ]
  },
  {
   "cell_type": "markdown",
   "id": "c38095be-c7d7-44e1-95c8-1af757d5d549",
   "metadata": {},
   "source": [
    "***\n",
    "### From hyperparameter tuning:\n",
    "##### Best KNN Model is the PEARSON BASELINE with RMSE of 1.083 and MAE of .877.\n",
    "***"
   ]
  },
  {
   "cell_type": "markdown",
   "id": "cb74d57f-2a69-4b7b-87f3-680b1b3defb8",
   "metadata": {},
   "source": [
    "### Tuning the Matrix Factorization Based Algorithm(SVD):\n",
    "Grid search is a method for hyperparameter optimization that involves training and evaluating a model for every possible combination of hyperparameter values. It is a brute force approach that can be computationally expensive, but it is simple to implement and can be effective for finding the optimal set of hyperparameters for a model."
   ]
  },
  {
   "cell_type": "code",
   "execution_count": null,
   "id": "afa49e9e-254c-4b30-8c6d-2ee51ec557ca",
   "metadata": {},
   "outputs": [],
   "source": [
    "#Prarameters\n",
    "svd_param_grid = {'n_epochs': [20, 25, 30, 40, 50],\n",
    "                  'lr_all': [0.007, 0.009, 0.01, 0.02],\n",
    "                  'reg_all': [0.02, 0.04, 0.1, 0.2]}\n",
    "\n",
    "# This will take some time to execute.\n",
    "gs_svd = GridSearchCV(SVD, svd_param_grid, measures=['rmse', 'mae'], cv=5, n_jobs=5)\n",
    "gs_svd.fit(data)"
   ]
  },
  {
   "cell_type": "code",
   "execution_count": null,
   "id": "1199b244-ced1-4951-8bc2-b293ac923cbe",
   "metadata": {},
   "outputs": [],
   "source": [
    "print('Best value for SVD  RMSE:', round(gs_svd.best_score['rmse'], 4), '; MAE:', round(gs_svd.best_score['mae'], 4))\n",
    "print('Optimal params RMSE =', gs_svd.best_params['rmse'])\n",
    "print('optimal params MAE =', gs_svd.best_params['mae'])"
   ]
  },
  {
   "cell_type": "markdown",
   "id": "1f1039ae-5d7f-4249-99fa-26795de6720c",
   "metadata": {},
   "source": [
    "### Final Model:\n",
    "\n",
    "You may notice that the best model in terms of the 2 error metrics was SVDpp, but in the previous cell I used just the regular SVD. The reason being that the SVDpp grid search was taking an extremely long time to run, and since the scores were only off by a very small margin I decided to move forward with SVD."
   ]
  },
  {
   "cell_type": "markdown",
   "id": "a733cd4e-02a7-4889-85aa-0f123f38aa00",
   "metadata": {},
   "source": [
    "***\n",
    "### Start to Make Predictions:\n",
    "    - Now that we have our parameters set we can fit the model and see if the program accurately predicts what a user would rate a movie..."
   ]
  },
  {
   "cell_type": "code",
   "execution_count": null,
   "id": "0f9e3adb-d2fa-4d9f-86cd-8e5a85483767",
   "metadata": {},
   "outputs": [],
   "source": [
    "### Final KNN Model\n",
    "\n",
    "dataset = data.build_full_trainset()\n",
    "final_knn_model = KNNWithMeans(k=20, sim_options={'name': 'pearson_baseline'})\n",
    "final_knn_model.fit(dataset)"
   ]
  },
  {
   "cell_type": "code",
   "execution_count": null,
   "id": "db84baea-1c5d-4598-80b2-a15de9c4c02e",
   "metadata": {},
   "outputs": [],
   "source": [
    "final_svd_model = SVD(n_epochs=30, lr_all=0.01, reg_all=0.2)\n",
    "final_svd_model.fit(dataset)"
   ]
  },
  {
   "cell_type": "markdown",
   "id": "06707af5-64f6-4a8f-bc61-8e98a21d6ce6",
   "metadata": {},
   "source": [
    "***\n",
    "The SVD model is officially fit and ready to make predictions, when ran properly the surprise.predict funtion will return the following items:\n",
    "\n",
    "\n",
    "-  uid: The user ID of the user for whom the prediction is made.\n",
    "-  iid: The item ID of the item for which the prediction is made.\n",
    "-  r_ui: The true rating of the user for the item.\n",
    "-  est: The predicted rating of the user for the item.\n",
    "-  details: A dictionary containing additional details about the prediction, such as the prediction algorithm used and any biases or offsets applied to the prediction."
   ]
  },
  {
   "cell_type": "code",
   "execution_count": null,
   "id": "e87bdfb3-521f-42fd-a1f0-13375226ca5d",
   "metadata": {},
   "outputs": [],
   "source": [
    "final_svd_model.predict(uid=1, iid=1)\n"
   ]
  },
  {
   "cell_type": "code",
   "execution_count": null,
   "id": "045ed724-aa82-4b92-bb54-c81d5a95da4e",
   "metadata": {},
   "outputs": [],
   "source": [
    "def get_movie_recommendations(user_id, preferred_genre = 'all',minimum_num_ratings=50):\n",
    "    \n",
    "    new_df = movie_ratings_final.copy()\n",
    "    \n",
    "    # filtering out by genre\n",
    "    if preferred_genre !='all':\n",
    "        new_df = new_df[new_df[preferred_genre]==1]\n",
    "    \n",
    "    # filtering out by number of ratings\n",
    "    new_df = new_df[new_df['RatingsCount']>=minimum_num_ratings]\n",
    "    \n",
    "    # filtering out all movies already rated by user\n",
    "    movies_already_watched = set(new_df[new_df['userId']==user_id].movieId.values)\n",
    "    new_df= new_df[~new_df['movieId'].isin(movies_already_watched)]\n",
    "    \n",
    "    # finding expected ratings for all remaining movies in the dataset\n",
    "    all_movie_ids = set(new_df['movieId'].values)\n",
    "    all_movie_ratings = []\n",
    "    \n",
    "    for i in all_movie_ids:\n",
    "        expected_rating = final_svd_model.predict(uid=user_id, iid=i).est\n",
    "        all_movie_ratings.append((i,round(expected_rating,1)))\n",
    "        \n",
    "    # extracting top five movies by expected rating\n",
    "    expected_df = pd.DataFrame(all_movie_ratings, columns=['movieId','Expected Rating'])    \n",
    "    result_df = pd.merge(expected_df, movie_ratings_final[['movieId','title','RatingsCount']],on='movieId')\n",
    "    result_df = result_df.sort_values(['Expected Rating','RatingsCount'],ascending=[False,False])\n",
    "    \n",
    "    return result_df.head()"
   ]
  },
  {
   "cell_type": "code",
   "execution_count": null,
   "id": "627fdec8-f334-491e-8e60-199748b9a519",
   "metadata": {},
   "outputs": [],
   "source": [
    "get_movie_recommendations(3)"
   ]
  },
  {
   "cell_type": "code",
   "execution_count": null,
   "id": "65544422-a4a4-42b7-b156-f82e0b319fe8",
   "metadata": {},
   "outputs": [],
   "source": [
    "# Initial attempt at functiom\n",
    "import numpy as np\n",
    "\n",
    "def get_top_5_movies(user_id):\n",
    "    # Get the user's ratings\n",
    "    user_ratings = ratings[user_id, :]\n",
    "\n",
    "    # Calculate the predicted ratings for all movies using collaborative filtering\n",
    "    predicted_ratings = similarity.dot(user_ratings) / np.array([np.abs(similarity).sum(axis=1)]).T\n",
    "\n",
    "    # Sort the movies by predicted rating in descending order\n",
    "    top_5_movies = np.argsort(predicted_ratings)[::-1][:5]\n",
    "\n",
    "    return top_5_movies\n"
   ]
  },
  {
   "cell_type": "code",
   "execution_count": null,
   "id": "3bc76b6a-39b6-402b-9c07-bed6b407bf09",
   "metadata": {},
   "outputs": [],
   "source": [
    "top"
   ]
  }
 ],
 "metadata": {
  "kernelspec": {
   "display_name": "Python (learn-env)",
   "language": "python",
   "name": "learn-env"
  },
  "language_info": {
   "codemirror_mode": {
    "name": "ipython",
    "version": 3
   },
   "file_extension": ".py",
   "mimetype": "text/x-python",
   "name": "python",
   "nbconvert_exporter": "python",
   "pygments_lexer": "ipython3",
   "version": "3.8.5"
  }
 },
 "nbformat": 4,
 "nbformat_minor": 5
}
